{
  "nbformat": 4,
  "nbformat_minor": 0,
  "metadata": {
    "colab": {
      "provenance": [],
      "authorship_tag": "ABX9TyPrHEQ0ng19CDq3uW2ISoH/",
      "include_colab_link": true
    },
    "kernelspec": {
      "name": "python3",
      "display_name": "Python 3"
    },
    "language_info": {
      "name": "python"
    }
  },
  "cells": [
    {
      "cell_type": "markdown",
      "metadata": {
        "id": "view-in-github",
        "colab_type": "text"
      },
      "source": [
        "<a href=\"https://colab.research.google.com/github/MuskanJainjain/College-Assignment-Foundation-of-Data-Science/blob/main/numpy.ipynb\" target=\"_parent\"><img src=\"https://colab.research.google.com/assets/colab-badge.svg\" alt=\"Open In Colab\"/></a>"
      ]
    },
    {
      "cell_type": "markdown",
      "source": [
        "**Question 01**"
      ],
      "metadata": {
        "id": "FHGnX4wCPWtr"
      }
    },
    {
      "cell_type": "code",
      "execution_count": null,
      "metadata": {
        "colab": {
          "base_uri": "https://localhost:8080/"
        },
        "id": "xh_cn3fFhdo-",
        "outputId": "3cb6655e-a89a-4232-954b-8c936964f0ed"
      },
      "outputs": [
        {
          "output_type": "stream",
          "name": "stdout",
          "text": [
            "1.25.2\n"
          ]
        }
      ],
      "source": [
        "import numpy as np\n",
        "print(np.__version__)"
      ]
    },
    {
      "cell_type": "markdown",
      "source": [
        "**Question 02**"
      ],
      "metadata": {
        "id": "rxp18wzFPb41"
      }
    },
    {
      "cell_type": "code",
      "source": [
        "import numpy as np\n",
        "x = np.array([1,2,3,4])\n",
        "print(\"original array:\")\n",
        "print(x)\n",
        "print(\"check whether none of the elements of the said array is zero:\")\n",
        "print(np.all(x))\n",
        "x = np.array([0,1,2,3])\n",
        "print(\"original array:\")\n",
        "print(x)\n",
        "print(\"check whether none of the elements of the said array is zero:\")\n",
        "print(np.all(x))\n"
      ],
      "metadata": {
        "colab": {
          "base_uri": "https://localhost:8080/"
        },
        "id": "VPJL98T3jOLL",
        "outputId": "5a4d1001-de41-40b7-d100-464c9febccdd"
      },
      "execution_count": null,
      "outputs": [
        {
          "output_type": "stream",
          "name": "stdout",
          "text": [
            "original array:\n",
            "[1 2 3 4]\n",
            "check whether none of the elements of the said array is zero:\n",
            "True\n",
            "original array:\n",
            "[0 1 2 3]\n",
            "check whether none of the elements of the said array is zero:\n",
            "False\n"
          ]
        }
      ]
    },
    {
      "cell_type": "markdown",
      "source": [
        "**Question 03**"
      ],
      "metadata": {
        "id": "vLbxKqrKPfOR"
      }
    },
    {
      "cell_type": "code",
      "source": [
        "a1 = np.array([3,5,4,6])\n",
        "a2 = np.array([7,4,9,4])\n",
        "print(\"a1 : \",a1)\n",
        "print(\"a2 : \",a2)\n",
        "\n",
        "print(\"a1 >= a2\")\n",
        "print(np.greater(a1,a2))\n"
      ],
      "metadata": {
        "id": "Wr_RDmzqkoIG",
        "colab": {
          "base_uri": "https://localhost:8080/"
        },
        "outputId": "dfca028a-3043-4e10-a5bf-4b2e1f508f75"
      },
      "execution_count": null,
      "outputs": [
        {
          "output_type": "stream",
          "name": "stdout",
          "text": [
            "a1 :  [3 5 4 6]\n",
            "a2 :  [7 4 9 4]\n",
            "a1 >= a2\n",
            "[False  True False  True]\n"
          ]
        }
      ]
    },
    {
      "cell_type": "markdown",
      "source": [
        "**Question-4**"
      ],
      "metadata": {
        "id": "zaujhl3mk94g"
      }
    },
    {
      "cell_type": "code",
      "source": [
        "a1 = np.array([11,4,9,6])\n",
        "a2 = np.array([9,10,8,6])\n",
        "\n",
        "print(\"a1 : \",a1)\n",
        "print(\"a2 : \",a2)\n",
        "\n",
        "print(\"a1 > a2\")\n",
        "print(\"a1 >= a2\")\n",
        "print(\"a1 < a2\")\n",
        "print(\"a1 <= a2\")\n",
        "print(np.greater(a1,a2))\n",
        "print(np.greater_equal(a1,a2))\n",
        "print(np.less(a1,a2))\n",
        "print(np.less_equal(a1,a2))"
      ],
      "metadata": {
        "colab": {
          "base_uri": "https://localhost:8080/"
        },
        "id": "b13c1PxSj8wy",
        "outputId": "98e42aff-89b4-417d-a3b9-6cd06701fc72"
      },
      "execution_count": null,
      "outputs": [
        {
          "output_type": "stream",
          "name": "stdout",
          "text": [
            "a1 :  [11  4  9  6]\n",
            "a2 :  [ 9 10  8  6]\n",
            "a1 > a2\n",
            "a1 >= a2\n",
            "a1 < a2\n",
            "a1 <= a2\n",
            "[ True False  True False]\n",
            "[ True False  True  True]\n",
            "[False  True False False]\n",
            "[False  True False  True]\n"
          ]
        }
      ]
    },
    {
      "cell_type": "markdown",
      "source": [
        "**Question 5**"
      ],
      "metadata": {
        "id": "j2gpmIijnazF"
      }
    },
    {
      "cell_type": "code",
      "source": [
        "x = np.array([1,7,13,105])\n",
        "print(x.size)\n",
        "print(x)\n",
        "print(x.dtype)\n",
        "\n",
        "print(\"size of the memory occupied by the said array:\")\n",
        "print(x.itemsize * x.size)"
      ],
      "metadata": {
        "colab": {
          "base_uri": "https://localhost:8080/"
        },
        "id": "plDkSp64nJLF",
        "outputId": "03394ff3-dd79-456c-e227-fa04b3c6d5cf"
      },
      "execution_count": null,
      "outputs": [
        {
          "output_type": "stream",
          "name": "stdout",
          "text": [
            "4\n",
            "[  1   7  13 105]\n",
            "int64\n",
            "size of the memory occupied by the said array:\n",
            "32\n"
          ]
        }
      ]
    },
    {
      "cell_type": "markdown",
      "source": [
        "**Question 6**"
      ],
      "metadata": {
        "id": "fNtFnpVwoeUq"
      }
    },
    {
      "cell_type": "code",
      "source": [
        "import numpy as np\n",
        "array = np.arange(30,71)\n",
        "\n",
        "print(\"array of the integers from 30 to 70\")\n",
        "print(array)"
      ],
      "metadata": {
        "colab": {
          "base_uri": "https://localhost:8080/"
        },
        "id": "uOJZCXICoLWs",
        "outputId": "19313ef1-9f7b-41cd-d72c-a81580ccad70"
      },
      "execution_count": null,
      "outputs": [
        {
          "output_type": "stream",
          "name": "stdout",
          "text": [
            "array of the integers from 30 to 70\n",
            "[30 31 32 33 34 35 36 37 38 39 40 41 42 43 44 45 46 47 48 49 50 51 52 53\n",
            " 54 55 56 57 58 59 60 61 62 63 64 65 66 67 68 69 70]\n"
          ]
        }
      ]
    },
    {
      "cell_type": "markdown",
      "source": [
        "**Question 7**"
      ],
      "metadata": {
        "id": "jS2tCFympAfE"
      }
    },
    {
      "cell_type": "code",
      "source": [
        "import numpy as np\n",
        "array = np.arange(30,71,2)\n",
        "\n",
        "print(\"array of the even integers from 30 to 70\")\n",
        "print(array)"
      ],
      "metadata": {
        "colab": {
          "base_uri": "https://localhost:8080/"
        },
        "id": "8L9HgRoao_wx",
        "outputId": "aa7d7843-5d7b-4d03-ee39-6aa69d8d54e0"
      },
      "execution_count": null,
      "outputs": [
        {
          "output_type": "stream",
          "name": "stdout",
          "text": [
            "array of the even integers from 30 to 70\n",
            "[30 32 34 36 38 40 42 44 46 48 50 52 54 56 58 60 62 64 66 68 70]\n"
          ]
        }
      ]
    },
    {
      "cell_type": "markdown",
      "source": [
        "**Question 8**"
      ],
      "metadata": {
        "id": "tsBlmKQPpxph"
      }
    },
    {
      "cell_type": "code",
      "source": [
        "import numpy as np\n",
        "array_2D = np.identity(3)\n",
        "\n",
        "print('3*3 matrix:')\n",
        "print(array_2D)"
      ],
      "metadata": {
        "colab": {
          "base_uri": "https://localhost:8080/"
        },
        "id": "thCQZMrHpqb5",
        "outputId": "e62e7b71-bf88-4b2c-ea0b-e31adee1011d"
      },
      "execution_count": null,
      "outputs": [
        {
          "output_type": "stream",
          "name": "stdout",
          "text": [
            "3*3 matrix:\n",
            "[[1. 0. 0.]\n",
            " [0. 1. 0.]\n",
            " [0. 0. 1.]]\n"
          ]
        }
      ]
    },
    {
      "cell_type": "markdown",
      "source": [
        "**Question 9**"
      ],
      "metadata": {
        "id": "2kyJa7Ulsunc"
      }
    },
    {
      "cell_type": "code",
      "source": [
        "import numpy as np\n",
        "a = np.arange(10,22).reshape((3, 4))\n",
        "print(\"Original array:\")\n",
        "print(a)\n",
        "print(\"Each element of the array is:\")\n",
        "for x in np.nditer(a):\n",
        "  print(x,end=\"\")"
      ],
      "metadata": {
        "colab": {
          "base_uri": "https://localhost:8080/"
        },
        "id": "p4lFJ5HFqKxG",
        "outputId": "3d6d1e53-15fe-4a0f-d740-247600c4b96c"
      },
      "execution_count": null,
      "outputs": [
        {
          "output_type": "stream",
          "name": "stdout",
          "text": [
            "Original array:\n",
            "[[10 11 12 13]\n",
            " [14 15 16 17]\n",
            " [18 19 20 21]]\n",
            "Each element of the array is:\n",
            "101112131415161718192021"
          ]
        }
      ]
    }
  ]
}