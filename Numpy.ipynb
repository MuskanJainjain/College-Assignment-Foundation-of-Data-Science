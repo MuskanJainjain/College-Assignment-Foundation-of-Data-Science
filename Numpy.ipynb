{
  "nbformat": 4,
  "nbformat_minor": 0,
  "metadata": {
    "colab": {
      "provenance": [],
      "authorship_tag": "ABX9TyNRTvsXs8TjhnnujNZWQLjX",
      "include_colab_link": true
    },
    "kernelspec": {
      "name": "python3",
      "display_name": "Python 3"
    },
    "language_info": {
      "name": "python"
    }
  },
  "cells": [
    {
      "cell_type": "markdown",
      "metadata": {
        "id": "view-in-github",
        "colab_type": "text"
      },
      "source": [
        "<a href=\"https://colab.research.google.com/github/MuskanJainjain/College-Assignment-Foundation-of-Data-Science/blob/main/Numpy.ipynb\" target=\"_parent\"><img src=\"https://colab.research.google.com/assets/colab-badge.svg\" alt=\"Open In Colab\"/></a>"
      ]
    },
    {
      "cell_type": "markdown",
      "source": [
        "**Question 01**"
      ],
      "metadata": {
        "id": "FHGnX4wCPWtr"
      }
    },
    {
      "cell_type": "code",
      "execution_count": null,
      "metadata": {
        "colab": {
          "base_uri": "https://localhost:8080/"
        },
        "id": "xh_cn3fFhdo-",
        "outputId": "3cb6655e-a89a-4232-954b-8c936964f0ed"
      },
      "outputs": [
        {
          "output_type": "stream",
          "name": "stdout",
          "text": [
            "1.25.2\n"
          ]
        }
      ],
      "source": [
        "import numpy as np\n",
        "print(np.__version__)"
      ]
    },
    {
      "cell_type": "markdown",
      "source": [
        "**Question 02**"
      ],
      "metadata": {
        "id": "rxp18wzFPb41"
      }
    },
    {
      "cell_type": "code",
      "source": [
        "import numpy as np\n",
        "x = np.array([1,2,3,4])\n",
        "print(\"original array:\")\n",
        "print(x)\n",
        "print(\"check whether none of the elements of the said array is zero:\")\n",
        "print(np.all(x))\n",
        "x = np.array([0,1,2,3])\n",
        "print(\"original array:\")\n",
        "print(x)\n",
        "print(\"check whether none of the elements of the said array is zero:\")\n",
        "print(np.all(x))\n"
      ],
      "metadata": {
        "colab": {
          "base_uri": "https://localhost:8080/"
        },
        "id": "VPJL98T3jOLL",
        "outputId": "5a4d1001-de41-40b7-d100-464c9febccdd"
      },
      "execution_count": null,
      "outputs": [
        {
          "output_type": "stream",
          "name": "stdout",
          "text": [
            "original array:\n",
            "[1 2 3 4]\n",
            "check whether none of the elements of the said array is zero:\n",
            "True\n",
            "original array:\n",
            "[0 1 2 3]\n",
            "check whether none of the elements of the said array is zero:\n",
            "False\n"
          ]
        }
      ]
    },
    {
      "cell_type": "markdown",
      "source": [
        "**Question 03**"
      ],
      "metadata": {
        "id": "vLbxKqrKPfOR"
      }
    },
    {
      "cell_type": "code",
      "source": [
        "import numpy as np\n",
        "x = np.array[3,5]\n",
        "y = np.array[2,6]\n",
        "print"
      ],
      "metadata": {
        "id": "Wr_RDmzqkoIG"
      },
      "execution_count": null,
      "outputs": []
    }
  ]
}